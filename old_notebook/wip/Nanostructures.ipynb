{
 "cells": [
  {
   "cell_type": "markdown",
   "id": "4df67b1e",
   "metadata": {},
   "source": [
    "# Build nanostructures"
   ]
  },
  {
   "cell_type": "markdown",
   "id": "b1241759",
   "metadata": {},
   "source": [
    "### Select materials"
   ]
  },
  {
   "cell_type": "markdown",
   "id": "2c9e65e7",
   "metadata": {},
   "source": [
    "### Build the surfaces"
   ]
  },
  {
   "cell_type": "markdown",
   "id": "bda3f2f0",
   "metadata": {},
   "source": [
    "### Optimise the structures"
   ]
  },
  {
   "cell_type": "markdown",
   "id": "6e2bb1e0",
   "metadata": {},
   "source": [
    "#### Coordinates only"
   ]
  },
  {
   "cell_type": "markdown",
   "id": "91fdbce2",
   "metadata": {},
   "source": [
    "#### Full optimisation"
   ]
  },
  {
   "cell_type": "markdown",
   "id": "aeadd6cf",
   "metadata": {},
   "source": [
    "### Extract the info"
   ]
  }
 ],
 "metadata": {
  "kernelspec": {
   "display_name": "Python 3 (ipykernel)",
   "language": "python",
   "name": "python3"
  },
  "language_info": {
   "codemirror_mode": {
    "name": "ipython",
    "version": 3
   },
   "file_extension": ".py",
   "mimetype": "text/x-python",
   "name": "python",
   "nbconvert_exporter": "python",
   "pygments_lexer": "ipython3",
   "version": "3.9.7"
  }
 },
 "nbformat": 4,
 "nbformat_minor": 5
}
