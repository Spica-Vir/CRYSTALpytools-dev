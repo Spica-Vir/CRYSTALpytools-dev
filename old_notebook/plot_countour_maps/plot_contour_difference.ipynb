{
 "cells": [
  {
   "cell_type": "code",
   "execution_count": null,
   "id": "1f62835c",
   "metadata": {},
   "outputs": [],
   "source": [
    "from CRYSTALpytools.crystal_io import *\n",
    "from CRYSTALpytools.plot import *"
   ]
  },
  {
   "cell_type": "code",
   "execution_count": null,
   "id": "97f85ea5",
   "metadata": {},
   "outputs": [],
   "source": [
    "urea_contour_plot = Properties_output().read_cry_contour('../data/pl2d_cry.SURFRHOO')"
   ]
  },
  {
   "cell_type": "code",
   "execution_count": null,
   "id": "4e520728",
   "metadata": {},
   "outputs": [],
   "source": [
    "urea_contour_plot_ref = Properties_output().read_cry_contour('../data/pl2d_cry_pato.SURFRHOO')"
   ]
  },
  {
   "cell_type": "code",
   "execution_count": null,
   "id": "995f5ace",
   "metadata": {},
   "outputs": [],
   "source": [
    "plot_cry_contour_differences(urea_contour_plot,urea_contour_plot_ref)"
   ]
  }
 ],
 "metadata": {
  "kernelspec": {
   "display_name": "Python 3 (ipykernel)",
   "language": "python",
   "name": "python3"
  },
  "language_info": {
   "codemirror_mode": {
    "name": "ipython",
    "version": 3
   },
   "file_extension": ".py",
   "mimetype": "text/x-python",
   "name": "python",
   "nbconvert_exporter": "python",
   "pygments_lexer": "ipython3",
   "version": "3.8.16"
  }
 },
 "nbformat": 4,
 "nbformat_minor": 5
}
