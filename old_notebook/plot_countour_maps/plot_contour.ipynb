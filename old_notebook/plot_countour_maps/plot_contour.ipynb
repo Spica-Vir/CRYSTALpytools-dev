{
 "cells": [
  {
   "cell_type": "code",
   "execution_count": null,
   "id": "e52ae528",
   "metadata": {},
   "outputs": [],
   "source": [
    "from CRYSTALpytools.crystal_io import *\n",
    "from CRYSTALpytools.plot import *"
   ]
  },
  {
   "cell_type": "code",
   "execution_count": null,
   "id": "ed7a996b",
   "metadata": {},
   "outputs": [],
   "source": [
    "urea_contour_plot = Properties_output().read_cry_contour('../data/pl2d_cry.SURFRHOO')"
   ]
  },
  {
   "cell_type": "code",
   "execution_count": null,
   "id": "5797f9cd",
   "metadata": {},
   "outputs": [],
   "source": [
    "plot_cry_contour(urea_contour_plot)"
   ]
  },
  {
   "cell_type": "code",
   "execution_count": null,
   "id": "abb56c33",
   "metadata": {},
   "outputs": [],
   "source": []
  }
 ],
 "metadata": {
  "kernelspec": {
   "display_name": "Python 3 (ipykernel)",
   "language": "python",
   "name": "python3"
  },
  "language_info": {
   "codemirror_mode": {
    "name": "ipython",
    "version": 3
   },
   "file_extension": ".py",
   "mimetype": "text/x-python",
   "name": "python",
   "nbconvert_exporter": "python",
   "pygments_lexer": "ipython3",
   "version": "3.8.16"
  }
 },
 "nbformat": 4,
 "nbformat_minor": 5
}
