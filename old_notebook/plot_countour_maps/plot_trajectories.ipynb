{
 "cells": [
  {
   "cell_type": "code",
   "execution_count": null,
   "id": "50609d3b",
   "metadata": {},
   "outputs": [],
   "source": [
    "from CRYSTALpytools.crystal_io import *\n",
    "from CRYSTALpytools.plot import *"
   ]
  },
  {
   "cell_type": "code",
   "execution_count": null,
   "id": "be3a1daa",
   "metadata": {},
   "outputs": [],
   "source": [
    "urea_traj = Properties_output().read_cry_contour('../data/pl2d_mol.TRAJGRAD')"
   ]
  },
  {
   "cell_type": "code",
   "execution_count": null,
   "id": "152a2c91",
   "metadata": {},
   "outputs": [],
   "source": [
    "plot_cry_contour(urea_traj)"
   ]
  }
 ],
 "metadata": {
  "kernelspec": {
   "display_name": "Python 3 (ipykernel)",
   "language": "python",
   "name": "python3"
  },
  "language_info": {
   "codemirror_mode": {
    "name": "ipython",
    "version": 3
   },
   "file_extension": ".py",
   "mimetype": "text/x-python",
   "name": "python",
   "nbconvert_exporter": "python",
   "pygments_lexer": "ipython3",
   "version": "3.8.16"
  }
 },
 "nbformat": 4,
 "nbformat_minor": 5
}
