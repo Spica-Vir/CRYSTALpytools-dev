{
 "cells": [
  {
   "cell_type": "code",
   "execution_count": null,
   "id": "93dcecfd",
   "metadata": {},
   "outputs": [],
   "source": [
    "import multiband_functions as mbf\n",
    "\n",
    "from crystal_functions.utils import help\n",
    "from crystal_functions.plot import plot_cry_multibands\n",
    "from crystal_functions.file_readwrite import Crystal_properties"
   ]
  },
  {
   "cell_type": "code",
   "execution_count": null,
   "id": "d43f609c",
   "metadata": {},
   "outputs": [],
   "source": [
    "#Optional\n",
    "help()"
   ]
  },
  {
   "cell_type": "code",
   "execution_count": null,
   "id": "740a9efe",
   "metadata": {},
   "outputs": [],
   "source": [
    "list_of_inputs = mbf.Selection_input() #lowercase"
   ]
  },
  {
   "cell_type": "code",
   "execution_count": null,
   "id": "163e893f",
   "metadata": {},
   "outputs": [],
   "source": [
    "#Option 1: create list of band objects in notebook\n",
    "list_of_band_obj = []\n",
    "for input_name in list_of_inputs:\n",
    "    list_of_band_obj.append(Crystal_properties(input_name).read_cry_bands())\n",
    "    "
   ]
  },
  {
   "cell_type": "code",
   "execution_count": null,
   "id": "7404b6e6",
   "metadata": {},
   "outputs": [],
   "source": [
    "#Option 2: use a function in multiband_functions (it can also be part of Selection_input())\n",
    "list_of_band_obj = mbf.make_list_bands()"
   ]
  },
  {
   "cell_type": "code",
   "execution_count": null,
   "id": "b6198c37",
   "metadata": {},
   "outputs": [],
   "source": [
    "#k point names\n",
    "path=mbf.Path_def() #lowecase"
   ]
  },
  {
   "cell_type": "code",
   "execution_count": null,
   "id": "17842485",
   "metadata": {},
   "outputs": [],
   "source": [
    "%matplotlib notebook \n",
    "plot_cry_multibands(list_of_band_obj,k_labels=path,energy_range=None,title=False,not_scaled=False)"
   ]
  }
 ],
 "metadata": {
  "kernelspec": {
   "display_name": "Python 3 (ipykernel)",
   "language": "python",
   "name": "python3"
  },
  "language_info": {
   "codemirror_mode": {
    "name": "ipython",
    "version": 3
   },
   "file_extension": ".py",
   "mimetype": "text/x-python",
   "name": "python",
   "nbconvert_exporter": "python",
   "pygments_lexer": "ipython3",
   "version": "3.9.10"
  }
 },
 "nbformat": 4,
 "nbformat_minor": 5
}
