{
 "cells": [
  {
   "cell_type": "markdown",
   "id": "5f8b9e6c-ff9f-4ec1-a26d-0bf525ad650c",
   "metadata": {},
   "source": [
    "# Basis Set: Advanced\n",
    "\n",
    "In the examples of [Input and Basis Set Generation](input_and_basisset.ipynb), basic setups of basis set has been introduced. Here are examples to explain the structure of basis set objects used in CRYSTALpytools to help customizing and testing basis sets.\n",
    "\n",
    "Basis set converison highly depends on the [Basis Set Exchange (BSE) Python API](https://molssi-bse.github.io/basis_set_exchange/index.html). But for the optimal compatibility, CRYSTALpytools has its own classes and I/O methods for the CRYSTAL basis set format.\n",
    "\n",
    "Please read 'input and basisset' example cases for basic usages before you start with this one.\n",
    "\n",
    "## 'base.basisset.AtomBS' class\n",
    "\n",
    "### Attributes\n",
    "\n",
    "The basic basis set class of an element (of conventional atomic number) is defined by the `AtomBS` class, which as 5 attributes:\n",
    "\n",
    "1. `z`: Conventional atomic number, following the rules of CRYSTAL.  \n",
    "2. `nshell`: Number of BS shells.  \n",
    "3. `ECP`: Formatted string of effective core pseudopotenital, to be printed before basis set definition.  \n",
    "4. `element`: `mendeleev.element` object.  \n",
    "5. `shells`: Basis set definition, see below."
   ]
  },
  {
   "cell_type": "code",
   "execution_count": 1,
   "id": "1500f6d7-76f1-48d8-b416-e8c51227a94a",
   "metadata": {
    "execution": {
     "iopub.execute_input": "2025-05-02T12:21:57.389591Z",
     "iopub.status.busy": "2025-05-02T12:21:57.388717Z",
     "iopub.status.idle": "2025-05-02T12:21:58.422685Z",
     "shell.execute_reply": "2025-05-02T12:21:58.422157Z",
     "shell.execute_reply.started": "2025-05-02T12:21:57.389412Z"
    }
   },
   "outputs": [
    {
     "name": "stdout",
     "output_type": "stream",
     "text": [
      "dict_keys(['z', 'nshell', 'ECP', 'element', 'shells'])\n"
     ]
    }
   ],
   "source": [
    "from CRYSTALpytools.base.basisset import AtomBS, BasisSetBASE\n",
    "\n",
    "c = BasisSetBASE.from_bse('6-31G*', z=[6]).atoms[0]\n",
    "print(c.__dict__.keys())"
   ]
  },
  {
   "cell_type": "markdown",
   "id": "b69eab7d-d290-4b7a-aaf1-7f63bc225ace",
   "metadata": {},
   "source": [
    "The `shells` attribute is a list of atomic orbital shells, each of which corresponds to a certain angular momentum and consists of at least 1 Gaussian type orbitals (GTO). \n",
    "\n",
    "Here the angular momentum of every shell of the 6-31G\\* C atom is printed:"
   ]
  },
  {
   "cell_type": "code",
   "execution_count": 2,
   "id": "ef50fca4-c005-4433-815b-34c50ae64885",
   "metadata": {
    "execution": {
     "iopub.execute_input": "2025-05-02T12:21:59.411730Z",
     "iopub.status.busy": "2025-05-02T12:21:59.410985Z",
     "iopub.status.idle": "2025-05-02T12:21:59.416715Z",
     "shell.execute_reply": "2025-05-02T12:21:59.416235Z",
     "shell.execute_reply.started": "2025-05-02T12:21:59.411669Z"
    }
   },
   "outputs": [
    {
     "name": "stdout",
     "output_type": "stream",
     "text": [
      "0\n",
      "1\n",
      "1\n",
      "3\n"
     ]
    }
   ],
   "source": [
    "for s in c.shells:\n",
    "    print(s['angular momentum'])"
   ]
  },
  {
   "cell_type": "markdown",
   "id": "cf723e76-73e3-4a82-ad60-d533820a5301",
   "metadata": {},
   "source": [
    "As indicated by the case, every shell is defined by a dictionary, whose keys include:\n",
    "\n",
    "- 'type': The 'ITYB' parameter of CRYSTAL basis set, i.e., type of basis set.  \n",
    "- 'angular momentum': 'LAT', shell type (s, sp, p, d, ...).  \n",
    "- 'n orbital': 'NG', number of GTOs.  \n",
    "- 'charge': 'CHE', formal charge, initial guess.  \n",
    "- 'scale factor': 'SCAL', almost obsolete, scale factor of the shell.  \n",
    "- 'orbitals': GTO definition.\n",
    "\n",
    "The first 5 keys correspond to the first line of every shell definition and the 'orbitals' key corresponds to the nGTO\\*2 or nGTO\\*3 (sp shell) list / array of exponent, coefficient and contract factors.\n",
    "\n",
    "Check the parameters of the first sp shell and compare its s and p components."
   ]
  },
  {
   "cell_type": "code",
   "execution_count": 3,
   "id": "2c1c5c6a-4a4d-4bf0-95d4-ba30732365e4",
   "metadata": {
    "execution": {
     "iopub.execute_input": "2025-05-02T12:22:03.131158Z",
     "iopub.status.busy": "2025-05-02T12:22:03.130961Z",
     "iopub.status.idle": "2025-05-02T12:22:03.541344Z",
     "shell.execute_reply": "2025-05-02T12:22:03.540858Z",
     "shell.execute_reply.started": "2025-05-02T12:22:03.131143Z"
    }
   },
   "outputs": [
    {
     "name": "stdout",
     "output_type": "stream",
     "text": [
      "[[ 7.86827235 -0.11933242  0.06899907]\n",
      " [ 1.88128854 -0.16085415  0.31642396]\n",
      " [ 0.54424926  1.14345644  0.74430829]]\n"
     ]
    },
    {
     "data": {
      "text/plain": [
       "<matplotlib.legend.Legend at 0x7fef753644f0>"
      ]
     },
     "execution_count": 3,
     "metadata": {},
     "output_type": "execute_result"
    },
    {
     "data": {
      "image/png": "[encoded data removed]",
      "text/plain": [
       "<Figure size 640x480 with 1 Axes>"
      ]
     },
     "metadata": {},
     "output_type": "display_data"
    }
   ],
   "source": [
    "import numpy as np\n",
    "import matplotlib.pyplot as plt\n",
    "\n",
    "print(c.shells[1]['orbitals'])\n",
    "\n",
    "x = np.linspace(-5, 5, 200)\n",
    "ys = 0.\n",
    "yp = 0.\n",
    "for i in c.shells[1]['orbitals']:\n",
    "    ys += i[1]*np.exp(-i[0]*x**2)\n",
    "    yp += i[2]*np.exp(-i[0]*x**2)\n",
    "\n",
    "plt.plot(x, np.vstack([ys, yp]).transpose(), label=['s', 'p'])\n",
    "plt.legend()"
   ]
  },
  {
   "cell_type": "markdown",
   "id": "4059acc1-bc7e-4287-8414-b34f19a14449",
   "metadata": {},
   "source": [
    "### Assign charge\n",
    "\n",
    "Basis sets from BSE do not contain charge information. A method is developed to automatically assign charge based on nuclear atomic charge, which has been tested on both all-electron and (less comprehensively) ECP basis sets.\n",
    "\n",
    "That is achieved by rearranging the electron configurations (EC) into the sequence of '1s', '2s',..., '1p', '2p',...,'3d'... up to g orbitals. As far as the developers are awared of, BSE basis set entries saved in the dictionary format follow the same pattern. When assigning charges, orbitals with the same angular momentum ($l$) are filled with charges based on that element's EC., until they are all allocated. The rest orbitals of the same $l$, if there is any, are assigned with 0 charge and regarded as split-valance, diffuse or polarization orbitals. ECP basis set uses the same algorithm with a pre-processing procedure. The total charge are substracted with charge of the same $l$, until it exactly hits the core charge of the basis set. This procedure is not always in sequence as in many cases, the filled d orbital is skipped and the s orbital is substacted and that meets the requirement. For example, for Sr (ECP: Stuttgart RSC 1997), 3d is skipped and 4s is substracted after 4p. Then the allocation algorithm runs from the inner-most orbital.\n",
    "\n",
    "Therefore a problem is clear for this algorithm: Empty orbitals are only allowed to appear on the valance or higher shells. Wrong allocation might occur when empty 'tight functions' are added into the contracted core shells. But that is very rare cases for (probably mostly) advanced post-HF methods and for CRSYTAL solid state calculations, the thing to be worried first is linear-dependence. Also that still results in the correct charge neutrality but some funcky charge allocations. That might (this is an assumption without test) lead to longer SCF convergence but not wrong results, and in fact in many codes based on Gaussian basis set, initial guess of formal charge is not required. \n",
    "\n",
    "6-311G(d,p) of Ge (32):"
   ]
  },
  {
   "cell_type": "code",
   "execution_count": 4,
   "id": "a6ccff99-e379-4b0a-91ae-4e14066155f4",
   "metadata": {
    "execution": {
     "iopub.execute_input": "2025-05-02T12:22:06.614744Z",
     "iopub.status.busy": "2025-05-02T12:22:06.613695Z",
     "iopub.status.idle": "2025-05-02T12:22:06.947758Z",
     "shell.execute_reply": "2025-05-02T12:22:06.947174Z",
     "shell.execute_reply.started": "2025-05-02T12:22:06.614673Z"
    }
   },
   "outputs": [
    {
     "name": "stdout",
     "output_type": "stream",
     "text": [
      "32 18\n",
      "0 0 6 2.00 1.00\n",
      " 357500.0000000000      0.0008389800\n",
      "  53670.0000000000      0.0062635000\n",
      "  12300.0000000000      0.0320360000\n",
      "   3512.0000000000      0.1275100000\n",
      "   1161.0000000000      0.3916500000\n",
      "    428.0000000000      0.5452800000\n",
      "0 0 3 2.00 1.00\n",
      "    428.0000000000      0.1816000000\n",
      "    170.0000000000      0.6224800000\n",
      "     72.0600000000      0.2487200000\n",
      "0 0 1 2.00 1.00\n",
      "     26.6900000000      1.0000000000\n",
      "0 0 1 2.00 1.00\n",
      "     11.5000000000      1.0000000000\n",
      "0 0 1 0.00 1.00\n",
      "      3.7420000000      1.0000000000\n",
      "0 0 1 0.00 1.00\n",
      "      1.4990000000      1.0000000000\n",
      "0 0 1 0.00 1.00\n",
      "      0.2292000000      1.0000000000\n",
      "0 0 1 0.00 1.00\n",
      "      0.0867500000      1.0000000000\n",
      "0 2 3 6.00 1.00\n",
      "   2345.0000000000      0.0225140000\n",
      "    554.2000000000      0.1833500000\n",
      "    177.3000000000      0.8600300000\n",
      "0 2 3 6.00 1.00\n",
      "     66.1300000000      0.3430600000\n",
      "     26.9000000000      0.5065200000\n",
      "     11.2600000000      0.2614100000\n",
      "0 2 3 2.00 1.00\n",
      "     11.2600000000      0.0672460000\n",
      "      6.1160000000      0.3723800000\n",
      "      2.8190000000      0.6176300000\n",
      "0 2 1 0.00 1.00\n",
      "      1.2110000000      1.0000000000\n",
      "0 2 1 0.00 1.00\n",
      "      0.3568000000      1.0000000000\n",
      "0 2 1 0.00 1.00\n",
      "      0.1621000000      1.0000000000\n",
      "0 2 1 0.00 1.00\n",
      "      0.0608400000      1.0000000000\n",
      "0 3 4 10.00 1.00\n",
      "     74.8400000000      0.0303900000\n",
      "     21.2300000000      0.1731900000\n",
      "      7.2970000000      0.4409000000\n",
      "      2.5490000000      0.5653200000\n",
      "0 3 1 0.00 1.00\n",
      "      0.8165000000      1.0000000000\n",
      "0 3 1 0.00 1.00\n",
      "      0.2280000000      1.0000000000\n",
      "\n"
     ]
    }
   ],
   "source": [
    "from CRYSTALpytools.base.basisset import AtomBS, BasisSetBASE\n",
    "\n",
    "c = BasisSetBASE.from_bse('6-311G(d,p)', z=[32]).atoms[0]\n",
    "print(c.print_crystal())"
   ]
  },
  {
   "cell_type": "markdown",
   "id": "69623b19-cb42-4ebc-bb7a-54e78cc01067",
   "metadata": {},
   "source": [
    "Stuttgart-Cologne small core ECP of Hg(80)"
   ]
  },
  {
   "cell_type": "code",
   "execution_count": 5,
   "id": "69d36327-e5dd-41c7-8669-6721227e2153",
   "metadata": {
    "execution": {
     "iopub.execute_input": "2025-05-02T12:22:10.299619Z",
     "iopub.status.busy": "2025-05-02T12:22:10.299287Z",
     "iopub.status.idle": "2025-05-02T12:22:10.585715Z",
     "shell.execute_reply": "2025-05-02T12:22:10.585048Z",
     "shell.execute_reply.started": "2025-05-02T12:22:10.299597Z"
    }
   },
   "outputs": [
    {
     "name": "stdout",
     "output_type": "stream",
     "text": [
      "80 16\n",
      "0 0 3 2.00 1.00\n",
      "     20.4111810000     -0.0449360000\n",
      "      8.0021900000      1.3091760000\n",
      "      6.0615460000     -1.8451020000\n",
      "0 0 1 2.00 1.00\n",
      "      1.1487070000      1.0000000000\n",
      "0 0 1 0.00 1.00\n",
      "      0.5379260000      1.0000000000\n",
      "0 0 1 0.00 1.00\n",
      "      0.1203120000      1.0000000000\n",
      "0 0 1 0.00 1.00\n",
      "      0.0435100000      1.0000000000\n",
      "0 0 1 0.00 1.00\n",
      "      0.0150000000      1.0000000000\n",
      "0 2 2 6.00 1.00\n",
      "      9.2838580000      0.1888940000\n",
      "      6.5219450000     -0.4259770000\n",
      "0 2 2 0.00 1.00\n",
      "      1.6863450000      0.5023740000\n",
      "      0.8790190000      0.5155700000\n",
      "0 2 1 0.00 1.00\n",
      "      0.3931810000      1.0000000000\n",
      "0 2 1 0.00 1.00\n",
      "      0.1125220000      1.0000000000\n",
      "0 2 1 0.00 1.00\n",
      "      0.0375950000      1.0000000000\n",
      "0 2 1 0.00 1.00\n",
      "      0.0120000000      1.0000000000\n",
      "0 3 4 10.00 1.00\n",
      "      5.0195620000     -0.1021360000\n",
      "      2.7138010000      0.1894800000\n",
      "      1.2578380000      0.4441490000\n",
      "      0.5535440000      0.4276150000\n",
      "0 3 1 0.00 1.00\n",
      "      0.2121650000      1.0000000000\n",
      "0 3 1 0.00 1.00\n",
      "      0.0700000000      1.0000000000\n",
      "0 3 1 0.00 1.00\n",
      "      0.0200000000      1.0000000000\n",
      "\n"
     ]
    }
   ],
   "source": [
    "from CRYSTALpytools.base.basisset import AtomBS, BasisSetBASE\n",
    "\n",
    "c = BasisSetBASE.from_bse('Stuttgart RSC 1997', z=[80]).atoms[0]\n",
    "print(c.print_crystal())"
   ]
  },
  {
   "cell_type": "markdown",
   "id": "5313e4e4-eab1-41e2-a452-bedc1eac800f",
   "metadata": {},
   "source": [
    "### Effective-core pesudopotential (ECP)\n",
    "\n",
    "So far ECP is just an attribute under the `AtomBS` class, which is saved in formatted text and accessible by calling the `AtomBS().ECP` attribute. Any modifications of ECP must be done via text and assigning it to that attribute. Classes and methods for ECP is under consideration. In the wrapper method, `Crystal_input().bs_user()`, the user can manually set or overwrite ECP text with the `ECP` input argument.\n",
    "\n",
    "### File I/O\n",
    "\n",
    "The `AtomBS` has built-in print function to write basis set in CRYSTAL format. But file format translation is achieved via BSE and wrapper functions, i.e., `AtomBS` only reads BSE data saved as dictionaries. Format string is consistent with [BSE python API](https://molssi-bse.github.io/basis_set_exchange/bse_cli.html#list-formats)\n",
    "\n",
    "Convert the collection of 6-31G\\* basis sets in Gaussian format, and write them into the external 'adv_BASISSETS.DAT' file in CRYSTAL format, with the title '6-31G* from BSE'.\n",
    "\n",
    "## 'BasisSetBASE' class\n",
    "\n",
    "The `BasisSetBASE` class is essentially a list of `AtomBS` objects, which manages all the basis sets defined in a system. It is also where the `from_*()` methods are defined.\n",
    "\n",
    "For more details, please refer to the [developer's API documentation](https://crystal-code-tools.github.io/CRYSTALpytools/crystalpytools.base.basisset.html)."
   ]
  }
 ],
 "metadata": {
  "kernelspec": {
   "display_name": "crystal_py3.9",
   "language": "python",
   "name": "crystal_py3.9"
  },
  "language_info": {
   "codemirror_mode": {
    "name": "ipython",
    "version": 3
   },
   "file_extension": ".py",
   "mimetype": "text/x-python",
   "name": "python",
   "nbconvert_exporter": "python",
   "pygments_lexer": "ipython3",
   "version": "3.9.19"
  },
  "widgets": {
   "application/vnd.jupyter.widget-state+json": {
    "state": {},
    "version_major": 2,
    "version_minor": 0
   }
  }
 },
 "nbformat": 4,
 "nbformat_minor": 5
}
