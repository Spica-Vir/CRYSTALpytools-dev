{
 "cells": [
  {
   "cell_type": "markdown",
   "id": "605cc082",
   "metadata": {},
   "source": [
    "# Unit tests notebook\n",
    "\n",
    "For testing the CRYSTALpytools please run this notebook.\n",
    "\n",
    "Alternatively, you can run test_all(folder_path) from command line."
   ]
  },
  {
   "cell_type": "markdown",
   "id": "1fca47e0",
   "metadata": {},
   "source": [
    "# crystal_io"
   ]
  },
  {
   "cell_type": "markdown",
   "id": "719bc49a",
   "metadata": {},
   "source": [
    "### Crystal_input"
   ]
  },
  {
   "cell_type": "code",
   "execution_count": 1,
   "id": "9352e624",
   "metadata": {},
   "outputs": [
    {
     "name": "stdout",
     "output_type": "stream",
     "text": [
      "File for input testing: ./data_test/mgo.d12\n"
     ]
    },
    {
     "data": {
      "text/html": [
       "<div>\n",
       "<style scoped>\n",
       "    .dataframe tbody tr th:only-of-type {\n",
       "        vertical-align: middle;\n",
       "    }\n",
       "\n",
       "    .dataframe tbody tr th {\n",
       "        vertical-align: top;\n",
       "    }\n",
       "\n",
       "    .dataframe thead th {\n",
       "        text-align: right;\n",
       "    }\n",
       "</style>\n",
       "<table border=\"1\" class=\"dataframe\">\n",
       "  <thead>\n",
       "    <tr style=\"text-align: right;\">\n",
       "      <th></th>\n",
       "      <th>0</th>\n",
       "    </tr>\n",
       "  </thead>\n",
       "  <tbody>\n",
       "    <tr>\n",
       "      <th>geom_block</th>\n",
       "      <td>False</td>\n",
       "    </tr>\n",
       "    <tr>\n",
       "      <th>bs_block</th>\n",
       "      <td>True</td>\n",
       "    </tr>\n",
       "    <tr>\n",
       "      <th>func_block</th>\n",
       "      <td>True</td>\n",
       "    </tr>\n",
       "    <tr>\n",
       "      <th>scf_block</th>\n",
       "      <td>False</td>\n",
       "    </tr>\n",
       "    <tr>\n",
       "      <th>add_ghost</th>\n",
       "      <td>True</td>\n",
       "    </tr>\n",
       "    <tr>\n",
       "      <th>sp_to_opt</th>\n",
       "      <td>True</td>\n",
       "    </tr>\n",
       "    <tr>\n",
       "      <th>opt_to_sp</th>\n",
       "      <td>False</td>\n",
       "    </tr>\n",
       "  </tbody>\n",
       "</table>\n",
       "</div>"
      ],
      "text/plain": [
       "                0\n",
       "geom_block  False\n",
       "bs_block     True\n",
       "func_block   True\n",
       "scf_block   False\n",
       "add_ghost    True\n",
       "sp_to_opt    True\n",
       "opt_to_sp   False"
      ]
     },
     "execution_count": 1,
     "metadata": {},
     "output_type": "execute_result"
    }
   ],
   "source": [
    "from CRYSTALpytools.unit_test import *\n",
    "import pandas as pd\n",
    "\n",
    "input_test = crystal_input_test('./data_test/')\n",
    "\n",
    "pd.DataFrame(input_test[1],input_test[0])"
   ]
  },
  {
   "cell_type": "code",
   "execution_count": 5,
   "id": "0b237df5",
   "metadata": {},
   "outputs": [],
   "source": [
    "from CRYSTALpytools.crystal_io import Crystal_input"
   ]
  },
  {
   "cell_type": "code",
   "execution_count": 9,
   "id": "f55bdd33",
   "metadata": {},
   "outputs": [
    {
     "data": {
      "text/plain": [
       "['CRYSTAL\\n',\n",
       " '0 0 0\\n',\n",
       " '225\\n',\n",
       " '4.217\\n',\n",
       " '2\\n',\n",
       " '12 0.    0.    0.\\n',\n",
       " '8 0.5   0.5   0.5\\n',\n",
       " 'END\\n']"
      ]
     },
     "execution_count": 9,
     "metadata": {},
     "output_type": "execute_result"
    }
   ],
   "source": [
    "Crystal_input().from_file('./data_test/mgo.d12').geom_block"
   ]
  },
  {
   "cell_type": "code",
   "execution_count": null,
   "id": "e04e386d",
   "metadata": {},
   "outputs": [],
   "source": []
  },
  {
   "cell_type": "markdown",
   "id": "d6272357",
   "metadata": {},
   "source": [
    "### Crystal_output"
   ]
  },
  {
   "cell_type": "code",
   "execution_count": 2,
   "id": "80e29c9f",
   "metadata": {},
   "outputs": [
    {
     "name": "stdout",
     "output_type": "stream",
     "text": [
      "Files for input testing: ./data_test/mgo.out and ./data_test/mgo_optgeom.out\n"
     ]
    },
    {
     "data": {
      "text/html": [
       "<div>\n",
       "<style scoped>\n",
       "    .dataframe tbody tr th:only-of-type {\n",
       "        vertical-align: middle;\n",
       "    }\n",
       "\n",
       "    .dataframe tbody tr th {\n",
       "        vertical-align: top;\n",
       "    }\n",
       "\n",
       "    .dataframe thead th {\n",
       "        text-align: right;\n",
       "    }\n",
       "</style>\n",
       "<table border=\"1\" class=\"dataframe\">\n",
       "  <thead>\n",
       "    <tr style=\"text-align: right;\">\n",
       "      <th></th>\n",
       "      <th>0</th>\n",
       "    </tr>\n",
       "  </thead>\n",
       "  <tbody>\n",
       "    <tr>\n",
       "      <th>converged</th>\n",
       "      <td>True</td>\n",
       "    </tr>\n",
       "    <tr>\n",
       "      <th>get_dimensionality</th>\n",
       "      <td>True</td>\n",
       "    </tr>\n",
       "    <tr>\n",
       "      <th>get_final_energy</th>\n",
       "      <td>False</td>\n",
       "    </tr>\n",
       "    <tr>\n",
       "      <th>get_scf_convergence</th>\n",
       "      <td>False</td>\n",
       "    </tr>\n",
       "    <tr>\n",
       "      <th>get_num_cycles</th>\n",
       "      <td>True</td>\n",
       "    </tr>\n",
       "    <tr>\n",
       "      <th>get_fermi_energy</th>\n",
       "      <td>True</td>\n",
       "    </tr>\n",
       "    <tr>\n",
       "      <th>get_primitive_lattice</th>\n",
       "      <td>True</td>\n",
       "    </tr>\n",
       "    <tr>\n",
       "      <th>get_reciprocal_lattice</th>\n",
       "      <td>False</td>\n",
       "    </tr>\n",
       "    <tr>\n",
       "      <th>get_band_gap</th>\n",
       "      <td>True</td>\n",
       "    </tr>\n",
       "    <tr>\n",
       "      <th>get_last_geom</th>\n",
       "      <td>True</td>\n",
       "    </tr>\n",
       "    <tr>\n",
       "      <th>get_symm_ops</th>\n",
       "      <td>True</td>\n",
       "    </tr>\n",
       "    <tr>\n",
       "      <th>get_forces</th>\n",
       "      <td>True</td>\n",
       "    </tr>\n",
       "    <tr>\n",
       "      <th>get_mulliken_charges</th>\n",
       "      <td>True</td>\n",
       "    </tr>\n",
       "  </tbody>\n",
       "</table>\n",
       "</div>"
      ],
      "text/plain": [
       "                            0\n",
       "converged                True\n",
       "get_dimensionality       True\n",
       "get_final_energy        False\n",
       "get_scf_convergence     False\n",
       "get_num_cycles           True\n",
       "get_fermi_energy         True\n",
       "get_primitive_lattice    True\n",
       "get_reciprocal_lattice  False\n",
       "get_band_gap             True\n",
       "get_last_geom            True\n",
       "get_symm_ops             True\n",
       "get_forces               True\n",
       "get_mulliken_charges     True"
      ]
     },
     "execution_count": 2,
     "metadata": {},
     "output_type": "execute_result"
    }
   ],
   "source": [
    "from CRYSTALpytools.unit_test import *\n",
    "import pandas as pd\n",
    "\n",
    "output_test = crystal_output_test('./data_test/')\n",
    "\n",
    "pd.DataFrame(output_test[1],output_test[0])"
   ]
  },
  {
   "cell_type": "markdown",
   "id": "a84e073e",
   "metadata": {},
   "source": [
    "# convert"
   ]
  },
  {
   "cell_type": "code",
   "execution_count": 3,
   "id": "2fddc51b",
   "metadata": {},
   "outputs": [
    {
     "data": {
      "text/html": [
       "<div>\n",
       "<style scoped>\n",
       "    .dataframe tbody tr th:only-of-type {\n",
       "        vertical-align: middle;\n",
       "    }\n",
       "\n",
       "    .dataframe tbody tr th {\n",
       "        vertical-align: top;\n",
       "    }\n",
       "\n",
       "    .dataframe thead th {\n",
       "        text-align: right;\n",
       "    }\n",
       "</style>\n",
       "<table border=\"1\" class=\"dataframe\">\n",
       "  <thead>\n",
       "    <tr style=\"text-align: right;\">\n",
       "      <th></th>\n",
       "      <th>0</th>\n",
       "    </tr>\n",
       "  </thead>\n",
       "  <tbody>\n",
       "    <tr>\n",
       "      <th>cry_out2pmg</th>\n",
       "      <td>True</td>\n",
       "    </tr>\n",
       "    <tr>\n",
       "      <th>cry_gui2pmg</th>\n",
       "      <td>True</td>\n",
       "    </tr>\n",
       "  </tbody>\n",
       "</table>\n",
       "</div>"
      ],
      "text/plain": [
       "                0\n",
       "cry_out2pmg  True\n",
       "cry_gui2pmg  True"
      ]
     },
     "execution_count": 3,
     "metadata": {},
     "output_type": "execute_result"
    }
   ],
   "source": [
    "from CRYSTALpytools.unit_test import *\n",
    "import pandas as pd\n",
    "\n",
    "output_test = convert_test('./data_test/')\n",
    "\n",
    "pd.DataFrame(output_test[1],output_test[0])"
   ]
  },
  {
   "cell_type": "code",
   "execution_count": 4,
   "id": "05f5b390",
   "metadata": {},
   "outputs": [
    {
     "name": "stdout",
     "output_type": "stream",
     "text": [
      "***Testing of the crystal_io module:***\n",
      "\n",
      "**Testing of the Crystal_input class:**\n",
      "\n",
      "File for input testing: ./data_test/mgo.d12\n",
      "\n",
      "geom_block False\n",
      "bs_block True\n",
      "func_block True\n",
      "scf_block False\n",
      "add_ghost True\n",
      "sp_to_opt True\n",
      "opt_to_sp False\n",
      "\n",
      "**Testing of the Crystal_output class:**\n",
      "\n",
      "Files for input testing: ./data_test/mgo.out and ./data_test/mgo_optgeom.out\n",
      "\n",
      "converged True\n",
      "get_dimensionality True\n",
      "get_final_energy False\n",
      "get_scf_convergence False\n",
      "get_num_cycles True\n",
      "get_fermi_energy True\n",
      "get_primitive_lattice True\n",
      "get_reciprocal_lattice False\n",
      "get_band_gap True\n",
      "get_last_geom True\n",
      "get_symm_ops True\n",
      "get_forces True\n",
      "get_mulliken_charges True\n",
      "\n",
      "***Testing of the convert module:***\n",
      "\n",
      "cry_out2pmg True\n",
      "cry_gui2pmg True\n"
     ]
    }
   ],
   "source": [
    "from CRYSTALpytools.unit_test import *\n",
    "test_all('./data_test/')"
   ]
  }
 ],
 "metadata": {
  "kernelspec": {
   "display_name": "Python 3 (ipykernel)",
   "language": "python",
   "name": "python3"
  },
  "language_info": {
   "codemirror_mode": {
    "name": "ipython",
    "version": 3
   },
   "file_extension": ".py",
   "mimetype": "text/x-python",
   "name": "python",
   "nbconvert_exporter": "python",
   "pygments_lexer": "ipython3",
   "version": "3.9.15"
  }
 },
 "nbformat": 4,
 "nbformat_minor": 5
}
